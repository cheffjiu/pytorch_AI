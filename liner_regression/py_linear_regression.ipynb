{
 "cells": [
  {
   "cell_type": "code",
   "execution_count": 20,
   "metadata": {},
   "outputs": [
    {
     "name": "stdout",
     "output_type": "stream",
     "text": [
      "Epoch[100/1000],Loss:17.5980\n",
      "Epoch[200/1000],Loss:17.5980\n",
      "Epoch[300/1000],Loss:17.5980\n",
      "Epoch[400/1000],Loss:17.5980\n",
      "Epoch[500/1000],Loss:17.5980\n",
      "Epoch[600/1000],Loss:17.5980\n",
      "Epoch[700/1000],Loss:17.5980\n",
      "Epoch[800/1000],Loss:17.5980\n",
      "Epoch[900/1000],Loss:17.5980\n",
      "Epoch[1000/1000],Loss:17.5980\n",
      "\n",
      "Predictions vs True Values (First 5 Samples):\n",
      "Predicted: 5.02, True: 5.45\n",
      "Predicted: 4.52, True: -1.97\n",
      "Predicted: 4.80, True: 9.09\n",
      "Predicted: 5.17, True: 8.34\n",
      "Predicted: 4.69, True: 4.54\n",
      "Predicted: 4.93, True: 1.29\n",
      "Predicted: 4.75, True: 2.14\n",
      "Predicted: 4.79, True: 6.14\n",
      "Predicted: 4.93, True: 4.63\n",
      "Predicted: 4.98, True: 8.77\n"
     ]
    }
   ],
   "source": [
    "import torch\n",
    "import torch.nn as nn\n",
    "import torch.optim as optim\n",
    "import matplotlib.pyplot as plt\n",
    "\n",
    "torch.manual_seed(42)\n",
    "X = torch.randn((100, 3))\n",
    "true_weight = torch.tensor([2.0, -3.0, 1.0])\n",
    "true_bias = torch.tensor([5.0])\n",
    "Y = X @ true_weight + true_bias + torch.randn((100,)) * 0.2\n",
    "\n",
    "\n",
    "class LinearRegression(nn.Module):\n",
    "    def __init__(self, input_dim):\n",
    "        super(LinearRegression, self).__init__()\n",
    "        self.linear = nn.Linear(input_dim, 1)\n",
    "\n",
    "    def forward(self, x):\n",
    "        return self.linear(x)\n",
    "\n",
    "\n",
    "learning_rate = 0.01\n",
    "epochs = 1000\n",
    "batch_size = 16\n",
    "model = LinearRegression(3)\n",
    "criterion = nn.MSELoss()\n",
    "optimizer = optim.SGD(model.parameters(), lr=learning_rate)\n",
    "\n",
    "for epoch in range(epochs):\n",
    "    for i in range(0, X.shape[0], batch_size):\n",
    "        X_batch = X[i : i + batch_size]\n",
    "        Y_batch = Y[i : i + batch_size]\n",
    "\n",
    "        outputs = model(X_batch)\n",
    "        loss = criterion(outputs, Y_batch)\n",
    "\n",
    "        optimizer.zero_grad()\n",
    "        loss.backward()\n",
    "        optimizer.step()\n",
    "\n",
    "    if (epoch + 1) % 100 == 0:\n",
    "        print(f\"Epoch[{epoch+1}/{epochs}],Loss:{loss.item():.4f}\")\n",
    "\n",
    "# 预测\n",
    "model.eval()\n",
    "with torch.no_grad():\n",
    "    predictions = model(X)\n",
    "    \n",
    "# 打印前 5 个预测值和真实值\n",
    "print(\"\\nPredictions vs True Values (First 5 Samples):\")\n",
    "for pred, true in zip(predictions[:10], Y[:10]):\n",
    "    print(f\"Predicted: {pred.item():.2f}, True: {true.item():.2f}\")"
   ]
  }
 ],
 "metadata": {
  "kernelspec": {
   "display_name": "base",
   "language": "python",
   "name": "python3"
  },
  "language_info": {
   "codemirror_mode": {
    "name": "ipython",
    "version": 3
   },
   "file_extension": ".py",
   "mimetype": "text/x-python",
   "name": "python",
   "nbconvert_exporter": "python",
   "pygments_lexer": "ipython3",
   "version": "3.10.16"
  }
 },
 "nbformat": 4,
 "nbformat_minor": 2
}
